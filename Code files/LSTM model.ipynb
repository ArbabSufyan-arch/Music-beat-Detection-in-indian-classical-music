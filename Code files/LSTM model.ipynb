{
  "cells": [
    {
      "cell_type": "code",
      "execution_count": null,
      "id": "78ceed6c",
      "metadata": {
        "id": "78ceed6c"
      },
      "outputs": [],
      "source": [
        "import matplotlib.pyplot as plt\n",
        "import numpy as np\n",
        "import pandas as pd\n",
        "import json\n",
        "import math\n",
        "import random\n",
        "import datetime as dt\n",
        "import tensorflow as tf\n",
        "from collections import deque\n",
        "import tensorflow.keras as keras\n",
        "from sklearn.model_selection import train_test_split\n",
        "from tensorflow.keras.layers import *\n",
        "from tensorflow.keras.models import Sequential\n",
        "from tensorflow.keras.callbacks import EarlyStopping\n",
        "from tensorflow.keras.utils import plot_model\n",
        "from keras.regularizers import l1, l2, l1_l2"
      ]
    },
    {
      "cell_type": "code",
      "execution_count": null,
      "id": "7245e192",
      "metadata": {
        "id": "7245e192"
      },
      "outputs": [],
      "source": [
        "\n",
        "from google.colab import files\n",
        "from google.colab import dri"
      ]
    },
    {
      "cell_type": "code",
      "execution_count": null,
      "id": "883df835",
      "metadata": {
        "colab": {
          "base_uri": "https://localhost:8080/"
        },
        "id": "883df835",
        "outputId": "693781df-683a-46c0-ee8a-d179e9eef3d1"
      },
      "outputs": [
        {
          "name": "stdout",
          "output_type": "stream",
          "text": [
            "Mounted at /content/drive\n"
          ]
        }
      ],
      "source": [
        "dri.mount('/content/drive')"
      ]
    },
    {
      "cell_type": "code",
      "execution_count": null,
      "id": "bb489775",
      "metadata": {
        "id": "bb489775"
      },
      "outputs": [],
      "source": [
        "Datapath1 = \"/content/drive/MyDrive/datav/aex1v1.json\"\n",
        "Datapath2 = \"/content/drive/MyDrive/datav/rmsex1v1.json\"\n",
        "Datapath3 = \"/content/drive/MyDrive/datav/zcrx1v1.json\"\n",
        "Datapath4 = \"/content/drive/MyDrive/datav/sfx1v1.json\"\n",
        "Datapath5 = \"/content/drive/MyDrive/datav/sbx1v1.json\"\n",
        "Datapath6 = \"/content/drive/MyDrive/datav/scx1v1.json\"\n",
        "Datapath7 = \"/content/drive/MyDrive/datav/melx1v1.json\"\n",
        "Datapath8 = \"/content/drive/MyDrive/datav/mellogx1v1.json\"\n",
        "Datapath9 = \"/content/drive/MyDrive/datav/mfccx1v1.json\"\n",
        "Datapath11 = \"/content/drive/MyDrive/datav/stftx1v3.json\"\n",
        "Datapath12 = \"/content/drive/MyDrive/datav/berx1v1.json\"\n",
        "Datapath13 = \"/content/drive/MyDrive/datav/gfccx1v3.json\"\n",
        "Datapath14 = \"/content/drive/MyDrive/datav/gmccx1v3.json\"\n",
        "Datapath15 = \"/content/drive/MyDrive/datav/nmfstftx1v2.json\""
      ]
    },
    {
      "cell_type": "code",
      "execution_count": null,
      "id": "f6U62xVRJ-fV",
      "metadata": {
        "id": "f6U62xVRJ-fV"
      },
      "outputs": [],
      "source": [
        "# with open(Datapath1, \"r\") as f1:\n",
        "#         data1 = json.load(f1)\n",
        "# with open(Datapath2, \"r\") as f2:\n",
        "#        data2 = json.load(f2)\n",
        "# with open(Datapath3, \"r\") as f3:\n",
        "#        data3 = json.load(f3)\n",
        "# with open(Datapath4, \"r\") as f4:\n",
        "#         data4 = json.load(f4)\n",
        "# with open(Datapath5, \"r\") as f5:\n",
        "#        data5 = json.load(f5)\n",
        "# with open(Datapath6, \"r\") as f6:\n",
        "#         data6 = json.load(f6)\n",
        "# with open(Datapath7, \"r\") as f7:\n",
        "#         data7 = json.load(f7)\n",
        "# with open(Datapath8, \"r\") as f8:\n",
        "#       data8 = json.load(f8)\n",
        "# with open(Datapath9, \"r\") as f9:\n",
        "#        data9 = json.load(f9)\n",
        "# with open(Datapath11, \"r\") as f11:\n",
        "#       data11 = json.load(f11)\n",
        "# with open(Datapath12, \"r\") as f12:\n",
        "#           data12 = json.load(f12)\n",
        "#with open(Datapath13, \"r\") as f13:\n",
        "         # data13 = json.load(f13)\n",
        "#with open(Datapath14, \"r\") as f14:\n",
        "#         data14 = json.load(f14)\n",
        "#with open(Datapath15, \"r\") as f15:\n",
        "#        data15 = json.load(f15)\n"
      ]
    },
    {
      "cell_type": "code",
      "execution_count": null,
      "id": "wkvQL5_Gr078",
      "metadata": {
        "id": "wkvQL5_Gr078"
      },
      "outputs": [],
      "source": [
        "# replace each inpt according to data set\n",
        "x = np.array(data15[\"sparse\"])\n",
        "y = np.array(data15[\"labels\"])"
      ]
    },
    {
      "cell_type": "code",
      "execution_count": null,
      "id": "6a3c86ce",
      "metadata": {
        "id": "6a3c86ce"
      },
      "outputs": [],
      "source": [
        "# create train, validation and test split\n",
        "X_train, X_test, y_train, y_test = train_test_split(x, y, test_size=0.25)\n",
        "X_train, X_validation, y_train, y_validation = train_test_split(X_train,y_train, test_size=0.25)"
      ]
    },
    {
      "cell_type": "code",
      "execution_count": null,
      "id": "iXTlOZLLtPPd",
      "metadata": {
        "colab": {
          "base_uri": "https://localhost:8080/"
        },
        "id": "iXTlOZLLtPPd",
        "outputId": "83205b09-43bc-4c4c-c212-7781f43aa250"
      },
      "outputs": [
        {
          "name": "stdout",
          "output_type": "stream",
          "text": [
            "Shape of X_train after reshape: (1920, 1292, 1)\n"
          ]
        }
      ],
      "source": [
        "# only use this if rehape 2d data into 3d\n",
        "# Calculate the appropriate second dimension based on the original size and other dimensions\n",
        "second_dim = X_train.size // (X_train.shape[0] * 1)\n",
        "\n",
        "# Reshape the data for the LSTM model\n",
        "X_train = X_train.reshape(X_train.shape[0], second_dim, 1)\n",
        "X_test = X_test.reshape(X_test.shape[0], second_dim, 1)\n",
        "X_validation = X_validation.reshape(X_validation.shape[0], second_dim, 1)\n",
        "\n",
        "# Verify the new shape\n",
        "print(\"Shape of X_train after reshape:\", X_train.shape)"
      ]
    },
    {
      "cell_type": "code",
      "execution_count": null,
      "id": "6c898740",
      "metadata": {
        "id": "6c898740"
      },
      "outputs": [],
      "source": [
        "def build_model(input_shape):\n",
        "\n",
        "    # build lstm\n",
        "    model = keras.Sequential()\n",
        "\n",
        "    model.add(keras.layers.LSTM(128, input_shape=input_shape, return_sequences=True))\n",
        "    model.add(keras.layers.LSTM(64,return_sequences=True))\n",
        "    model.add(keras.layers.LSTM(32))\n",
        "    model.add(keras.layers.Dense(64, activation='relu'))\n",
        "    model.add(keras.layers.Dense(32, activation='relu'))\n",
        "    model.add(keras.layers.Dropout(0.3))\n",
        "\n",
        "    model.add(keras.layers.Dense(10, activation='softmax'))\n",
        "    return model"
      ]
    },
    {
      "cell_type": "code",
      "execution_count": null,
      "id": "qW_SlNEpL6sl",
      "metadata": {
        "colab": {
          "background_save": true,
          "base_uri": "https://localhost:8080/",
          "height": 804
        },
        "id": "qW_SlNEpL6sl",
        "outputId": "7f1b8b81-8bb4-47db-84d4-d651e4df38e4"
      },
      "outputs": [
        {
          "name": "stderr",
          "output_type": "stream",
          "text": [
            "/usr/local/lib/python3.10/dist-packages/keras/src/layers/rnn/rnn.py:204: UserWarning: Do not pass an `input_shape`/`input_dim` argument to a layer. When using Sequential models, prefer using an `Input(shape)` object as the first layer in the model instead.\n",
            "  super().__init__(**kwargs)\n"
          ]
        },
        {
          "data": {
            "text/html": [
              "<pre style=\"white-space:pre;overflow-x:auto;line-height:normal;font-family:Menlo,'DejaVu Sans Mono',consolas,'Courier New',monospace\"><span style=\"font-weight: bold\">Model: \"sequential\"</span>\n",
              "</pre>\n"
            ],
            "text/plain": [
              "\u001b[1mModel: \"sequential\"\u001b[0m\n"
            ]
          },
          "metadata": {},
          "output_type": "display_data"
        },
        {
          "data": {
            "text/html": [
              "<pre style=\"white-space:pre;overflow-x:auto;line-height:normal;font-family:Menlo,'DejaVu Sans Mono',consolas,'Courier New',monospace\">┏━━━━━━━━━━━━━━━━━━━━━━━━━━━━━━━━━━━━━━┳━━━━━━━━━━━━━━━━━━━━━━━━━━━━━┳━━━━━━━━━━━━━━━━━┓\n",
              "┃<span style=\"font-weight: bold\"> Layer (type)                         </span>┃<span style=\"font-weight: bold\"> Output Shape                </span>┃<span style=\"font-weight: bold\">         Param # </span>┃\n",
              "┡━━━━━━━━━━━━━━━━━━━━━━━━━━━━━━━━━━━━━━╇━━━━━━━━━━━━━━━━━━━━━━━━━━━━━╇━━━━━━━━━━━━━━━━━┩\n",
              "│ lstm (<span style=\"color: #0087ff; text-decoration-color: #0087ff\">LSTM</span>)                          │ (<span style=\"color: #00d7ff; text-decoration-color: #00d7ff\">None</span>, <span style=\"color: #00af00; text-decoration-color: #00af00\">1292</span>, <span style=\"color: #00af00; text-decoration-color: #00af00\">128</span>)           │          <span style=\"color: #00af00; text-decoration-color: #00af00\">67,072</span> │\n",
              "├──────────────────────────────────────┼─────────────────────────────┼─────────────────┤\n",
              "│ lstm_1 (<span style=\"color: #0087ff; text-decoration-color: #0087ff\">LSTM</span>)                        │ (<span style=\"color: #00d7ff; text-decoration-color: #00d7ff\">None</span>, <span style=\"color: #00af00; text-decoration-color: #00af00\">1292</span>, <span style=\"color: #00af00; text-decoration-color: #00af00\">64</span>)            │          <span style=\"color: #00af00; text-decoration-color: #00af00\">49,408</span> │\n",
              "├──────────────────────────────────────┼─────────────────────────────┼─────────────────┤\n",
              "│ lstm_2 (<span style=\"color: #0087ff; text-decoration-color: #0087ff\">LSTM</span>)                        │ (<span style=\"color: #00d7ff; text-decoration-color: #00d7ff\">None</span>, <span style=\"color: #00af00; text-decoration-color: #00af00\">32</span>)                  │          <span style=\"color: #00af00; text-decoration-color: #00af00\">12,416</span> │\n",
              "├──────────────────────────────────────┼─────────────────────────────┼─────────────────┤\n",
              "│ dense (<span style=\"color: #0087ff; text-decoration-color: #0087ff\">Dense</span>)                        │ (<span style=\"color: #00d7ff; text-decoration-color: #00d7ff\">None</span>, <span style=\"color: #00af00; text-decoration-color: #00af00\">64</span>)                  │           <span style=\"color: #00af00; text-decoration-color: #00af00\">2,112</span> │\n",
              "├──────────────────────────────────────┼─────────────────────────────┼─────────────────┤\n",
              "│ dense_1 (<span style=\"color: #0087ff; text-decoration-color: #0087ff\">Dense</span>)                      │ (<span style=\"color: #00d7ff; text-decoration-color: #00d7ff\">None</span>, <span style=\"color: #00af00; text-decoration-color: #00af00\">32</span>)                  │           <span style=\"color: #00af00; text-decoration-color: #00af00\">2,080</span> │\n",
              "├──────────────────────────────────────┼─────────────────────────────┼─────────────────┤\n",
              "│ dropout (<span style=\"color: #0087ff; text-decoration-color: #0087ff\">Dropout</span>)                    │ (<span style=\"color: #00d7ff; text-decoration-color: #00d7ff\">None</span>, <span style=\"color: #00af00; text-decoration-color: #00af00\">32</span>)                  │               <span style=\"color: #00af00; text-decoration-color: #00af00\">0</span> │\n",
              "├──────────────────────────────────────┼─────────────────────────────┼─────────────────┤\n",
              "│ dense_2 (<span style=\"color: #0087ff; text-decoration-color: #0087ff\">Dense</span>)                      │ (<span style=\"color: #00d7ff; text-decoration-color: #00d7ff\">None</span>, <span style=\"color: #00af00; text-decoration-color: #00af00\">10</span>)                  │             <span style=\"color: #00af00; text-decoration-color: #00af00\">330</span> │\n",
              "└──────────────────────────────────────┴─────────────────────────────┴─────────────────┘\n",
              "</pre>\n"
            ],
            "text/plain": [
              "┏━━━━━━━━━━━━━━━━━━━━━━━━━━━━━━━━━━━━━━┳━━━━━━━━━━━━━━━━━━━━━━━━━━━━━┳━━━━━━━━━━━━━━━━━┓\n",
              "┃\u001b[1m \u001b[0m\u001b[1mLayer (type)                        \u001b[0m\u001b[1m \u001b[0m┃\u001b[1m \u001b[0m\u001b[1mOutput Shape               \u001b[0m\u001b[1m \u001b[0m┃\u001b[1m \u001b[0m\u001b[1m        Param #\u001b[0m\u001b[1m \u001b[0m┃\n",
              "┡━━━━━━━━━━━━━━━━━━━━━━━━━━━━━━━━━━━━━━╇━━━━━━━━━━━━━━━━━━━━━━━━━━━━━╇━━━━━━━━━━━━━━━━━┩\n",
              "│ lstm (\u001b[38;5;33mLSTM\u001b[0m)                          │ (\u001b[38;5;45mNone\u001b[0m, \u001b[38;5;34m1292\u001b[0m, \u001b[38;5;34m128\u001b[0m)           │          \u001b[38;5;34m67,072\u001b[0m │\n",
              "├──────────────────────────────────────┼─────────────────────────────┼─────────────────┤\n",
              "│ lstm_1 (\u001b[38;5;33mLSTM\u001b[0m)                        │ (\u001b[38;5;45mNone\u001b[0m, \u001b[38;5;34m1292\u001b[0m, \u001b[38;5;34m64\u001b[0m)            │          \u001b[38;5;34m49,408\u001b[0m │\n",
              "├──────────────────────────────────────┼─────────────────────────────┼─────────────────┤\n",
              "│ lstm_2 (\u001b[38;5;33mLSTM\u001b[0m)                        │ (\u001b[38;5;45mNone\u001b[0m, \u001b[38;5;34m32\u001b[0m)                  │          \u001b[38;5;34m12,416\u001b[0m │\n",
              "├──────────────────────────────────────┼─────────────────────────────┼─────────────────┤\n",
              "│ dense (\u001b[38;5;33mDense\u001b[0m)                        │ (\u001b[38;5;45mNone\u001b[0m, \u001b[38;5;34m64\u001b[0m)                  │           \u001b[38;5;34m2,112\u001b[0m │\n",
              "├──────────────────────────────────────┼─────────────────────────────┼─────────────────┤\n",
              "│ dense_1 (\u001b[38;5;33mDense\u001b[0m)                      │ (\u001b[38;5;45mNone\u001b[0m, \u001b[38;5;34m32\u001b[0m)                  │           \u001b[38;5;34m2,080\u001b[0m │\n",
              "├──────────────────────────────────────┼─────────────────────────────┼─────────────────┤\n",
              "│ dropout (\u001b[38;5;33mDropout\u001b[0m)                    │ (\u001b[38;5;45mNone\u001b[0m, \u001b[38;5;34m32\u001b[0m)                  │               \u001b[38;5;34m0\u001b[0m │\n",
              "├──────────────────────────────────────┼─────────────────────────────┼─────────────────┤\n",
              "│ dense_2 (\u001b[38;5;33mDense\u001b[0m)                      │ (\u001b[38;5;45mNone\u001b[0m, \u001b[38;5;34m10\u001b[0m)                  │             \u001b[38;5;34m330\u001b[0m │\n",
              "└──────────────────────────────────────┴─────────────────────────────┴─────────────────┘\n"
            ]
          },
          "metadata": {},
          "output_type": "display_data"
        },
        {
          "data": {
            "text/html": [
              "<pre style=\"white-space:pre;overflow-x:auto;line-height:normal;font-family:Menlo,'DejaVu Sans Mono',consolas,'Courier New',monospace\"><span style=\"font-weight: bold\"> Total params: </span><span style=\"color: #00af00; text-decoration-color: #00af00\">133,418</span> (521.16 KB)\n",
              "</pre>\n"
            ],
            "text/plain": [
              "\u001b[1m Total params: \u001b[0m\u001b[38;5;34m133,418\u001b[0m (521.16 KB)\n"
            ]
          },
          "metadata": {},
          "output_type": "display_data"
        },
        {
          "data": {
            "text/html": [
              "<pre style=\"white-space:pre;overflow-x:auto;line-height:normal;font-family:Menlo,'DejaVu Sans Mono',consolas,'Courier New',monospace\"><span style=\"font-weight: bold\"> Trainable params: </span><span style=\"color: #00af00; text-decoration-color: #00af00\">133,418</span> (521.16 KB)\n",
              "</pre>\n"
            ],
            "text/plain": [
              "\u001b[1m Trainable params: \u001b[0m\u001b[38;5;34m133,418\u001b[0m (521.16 KB)\n"
            ]
          },
          "metadata": {},
          "output_type": "display_data"
        },
        {
          "data": {
            "text/html": [
              "<pre style=\"white-space:pre;overflow-x:auto;line-height:normal;font-family:Menlo,'DejaVu Sans Mono',consolas,'Courier New',monospace\"><span style=\"font-weight: bold\"> Non-trainable params: </span><span style=\"color: #00af00; text-decoration-color: #00af00\">0</span> (0.00 B)\n",
              "</pre>\n"
            ],
            "text/plain": [
              "\u001b[1m Non-trainable params: \u001b[0m\u001b[38;5;34m0\u001b[0m (0.00 B)\n"
            ]
          },
          "metadata": {},
          "output_type": "display_data"
        },
        {
          "name": "stdout",
          "output_type": "stream",
          "text": [
            "Epoch 1/150\n",
            "\u001b[1m57/57\u001b[0m \u001b[32m━━━━━━━━━━━━━━━━━━━━\u001b[0m\u001b[37m\u001b[0m \u001b[1m14s\u001b[0m 116ms/step - accuracy: 0.1446 - loss: 2.2978 - val_accuracy: 0.1817 - val_loss: 2.2664\n",
            "Epoch 2/150\n",
            "\u001b[1m57/57\u001b[0m \u001b[32m━━━━━━━━━━━━━━━━━━━━\u001b[0m\u001b[37m\u001b[0m \u001b[1m8s\u001b[0m 147ms/step - accuracy: 0.1999 - loss: 2.2455 - val_accuracy: 0.1917 - val_loss: 2.1746\n",
            "Epoch 3/150\n",
            "\u001b[1m57/57\u001b[0m \u001b[32m━━━━━━━━━━━━━━━━━━━━\u001b[0m\u001b[37m\u001b[0m \u001b[1m8s\u001b[0m 107ms/step - accuracy: 0.1895 - loss: 2.1240 - val_accuracy: 0.2150 - val_loss: 1.9133\n",
            "Epoch 4/150\n",
            "\u001b[1m57/57\u001b[0m \u001b[32m━━━━━━━━━━━━━━━━━━━━\u001b[0m\u001b[37m\u001b[0m \u001b[1m10s\u001b[0m 106ms/step - accuracy: 0.1893 - loss: 1.9221 - val_accuracy: 0.2150 - val_loss: 1.7818\n",
            "Epoch 5/150\n",
            "\u001b[1m57/57\u001b[0m \u001b[32m━━━━━━━━━━━━━━━━━━━━\u001b[0m\u001b[37m\u001b[0m \u001b[1m11s\u001b[0m 115ms/step - accuracy: 0.1959 - loss: 1.8732 - val_accuracy: 0.2150 - val_loss: 1.7347\n",
            "Epoch 6/150\n",
            "\u001b[1m57/57\u001b[0m \u001b[32m━━━━━━━━━━━━━━━━━━━━\u001b[0m\u001b[37m\u001b[0m \u001b[1m11s\u001b[0m 126ms/step - accuracy: 0.2045 - loss: 1.8223 - val_accuracy: 0.2150 - val_loss: 1.7120\n",
            "Epoch 7/150\n",
            "\u001b[1m57/57\u001b[0m \u001b[32m━━━━━━━━━━━━━━━━━━━━\u001b[0m\u001b[37m\u001b[0m \u001b[1m9s\u001b[0m 113ms/step - accuracy: 0.1825 - loss: 1.8283 - val_accuracy: 0.2150 - val_loss: 1.7056\n",
            "Epoch 8/150\n",
            "\u001b[1m57/57\u001b[0m \u001b[32m━━━━━━━━━━━━━━━━━━━━\u001b[0m\u001b[37m\u001b[0m \u001b[1m10s\u001b[0m 107ms/step - accuracy: 0.2095 - loss: 1.7815 - val_accuracy: 0.2200 - val_loss: 1.6908\n",
            "Epoch 9/150\n",
            "\u001b[1m57/57\u001b[0m \u001b[32m━━━━━━━━━━━━━━━━━━━━\u001b[0m\u001b[37m\u001b[0m \u001b[1m10s\u001b[0m 107ms/step - accuracy: 0.1971 - loss: 1.7813 - val_accuracy: 0.2000 - val_loss: 1.6848\n",
            "Epoch 10/150\n",
            "\u001b[1m57/57\u001b[0m \u001b[32m━━━━━━━━━━━━━━━━━━━━\u001b[0m\u001b[37m\u001b[0m \u001b[1m11s\u001b[0m 121ms/step - accuracy: 0.1899 - loss: 1.7913 - val_accuracy: 0.1983 - val_loss: 1.6825\n",
            "Epoch 11/150\n",
            "\u001b[1m57/57\u001b[0m \u001b[32m━━━━━━━━━━━━━━━━━━━━\u001b[0m\u001b[37m\u001b[0m \u001b[1m11s\u001b[0m 127ms/step - accuracy: 0.2191 - loss: 1.7640 - val_accuracy: 0.2233 - val_loss: 1.6728\n",
            "Epoch 12/150\n",
            "\u001b[1m57/57\u001b[0m \u001b[32m━━━━━━━━━━━━━━━━━━━━\u001b[0m\u001b[37m\u001b[0m \u001b[1m6s\u001b[0m 106ms/step - accuracy: 0.2065 - loss: 1.7665 - val_accuracy: 0.2083 - val_loss: 1.6704\n",
            "Epoch 13/150\n",
            "\u001b[1m57/57\u001b[0m \u001b[32m━━━━━━━━━━━━━━━━━━━━\u001b[0m\u001b[37m\u001b[0m \u001b[1m11s\u001b[0m 118ms/step - accuracy: 0.2013 - loss: 1.7484 - val_accuracy: 0.2067 - val_loss: 1.6664\n",
            "Epoch 14/150\n",
            "\u001b[1m57/57\u001b[0m \u001b[32m━━━━━━━━━━━━━━━━━━━━\u001b[0m\u001b[37m\u001b[0m \u001b[1m11s\u001b[0m 124ms/step - accuracy: 0.2051 - loss: 1.7392 - val_accuracy: 0.2150 - val_loss: 1.6641\n",
            "Epoch 15/150\n",
            "\u001b[1m57/57\u001b[0m \u001b[32m━━━━━━━━━━━━━━━━━━━━\u001b[0m\u001b[37m\u001b[0m \u001b[1m9s\u001b[0m 108ms/step - accuracy: 0.2035 - loss: 1.7309 - val_accuracy: 0.2117 - val_loss: 1.6603\n",
            "Epoch 16/150\n",
            "\u001b[1m57/57\u001b[0m \u001b[32m━━━━━━━━━━━━━━━━━━━━\u001b[0m\u001b[37m\u001b[0m \u001b[1m8s\u001b[0m 132ms/step - accuracy: 0.2140 - loss: 1.7409 - val_accuracy: 0.1950 - val_loss: 1.6581\n",
            "Epoch 17/150\n",
            "\u001b[1m57/57\u001b[0m \u001b[32m━━━━━━━━━━━━━━━━━━━━\u001b[0m\u001b[37m\u001b[0m \u001b[1m10s\u001b[0m 124ms/step - accuracy: 0.2229 - loss: 1.7093 - val_accuracy: 0.2167 - val_loss: 1.6565\n",
            "Epoch 18/150\n",
            "\u001b[1m57/57\u001b[0m \u001b[32m━━━━━━━━━━━━━━━━━━━━\u001b[0m\u001b[37m\u001b[0m \u001b[1m7s\u001b[0m 116ms/step - accuracy: 0.2146 - loss: 1.7267 - val_accuracy: 0.2200 - val_loss: 1.6550\n",
            "Epoch 19/150\n",
            "\u001b[1m57/57\u001b[0m \u001b[32m━━━━━━━━━━━━━━━━━━━━\u001b[0m\u001b[37m\u001b[0m \u001b[1m11s\u001b[0m 122ms/step - accuracy: 0.2133 - loss: 1.7083 - val_accuracy: 0.2300 - val_loss: 1.6468\n",
            "Epoch 20/150\n",
            "\u001b[1m57/57\u001b[0m \u001b[32m━━━━━━━━━━━━━━━━━━━━\u001b[0m\u001b[37m\u001b[0m \u001b[1m10s\u001b[0m 127ms/step - accuracy: 0.2306 - loss: 1.6976 - val_accuracy: 0.2300 - val_loss: 1.6448\n",
            "Epoch 21/150\n",
            "\u001b[1m57/57\u001b[0m \u001b[32m━━━━━━━━━━━━━━━━━━━━\u001b[0m\u001b[37m\u001b[0m \u001b[1m9s\u001b[0m 107ms/step - accuracy: 0.2004 - loss: 1.7075 - val_accuracy: 0.2383 - val_loss: 1.6389\n",
            "Epoch 22/150\n",
            "\u001b[1m57/57\u001b[0m \u001b[32m━━━━━━━━━━━━━━━━━━━━\u001b[0m\u001b[37m\u001b[0m \u001b[1m7s\u001b[0m 125ms/step - accuracy: 0.2357 - loss: 1.6876 - val_accuracy: 0.2633 - val_loss: 1.6376\n",
            "Epoch 23/150\n",
            "\u001b[1m57/57\u001b[0m \u001b[32m━━━━━━━━━━━━━━━━━━━━\u001b[0m\u001b[37m\u001b[0m \u001b[1m10s\u001b[0m 121ms/step - accuracy: 0.1899 - loss: 1.7067 - val_accuracy: 0.2383 - val_loss: 1.6323\n",
            "Epoch 24/150\n",
            "\u001b[1m57/57\u001b[0m \u001b[32m━━━━━━━━━━━━━━━━━━━━\u001b[0m\u001b[37m\u001b[0m \u001b[1m9s\u001b[0m 107ms/step - accuracy: 0.2081 - loss: 1.7051 - val_accuracy: 0.2550 - val_loss: 1.6318\n",
            "Epoch 25/150\n",
            "\u001b[1m57/57\u001b[0m \u001b[32m━━━━━━━━━━━━━━━━━━━━\u001b[0m\u001b[37m\u001b[0m \u001b[1m10s\u001b[0m 106ms/step - accuracy: 0.2131 - loss: 1.6936 - val_accuracy: 0.2767 - val_loss: 1.6202\n",
            "Epoch 26/150\n",
            "\u001b[1m57/57\u001b[0m \u001b[32m━━━━━━━━━━━━━━━━━━━━\u001b[0m\u001b[37m\u001b[0m \u001b[1m11s\u001b[0m 116ms/step - accuracy: 0.2521 - loss: 1.6557 - val_accuracy: 0.2833 - val_loss: 1.6093\n",
            "Epoch 27/150\n",
            "\u001b[1m57/57\u001b[0m \u001b[32m━━━━━━━━━━━━━━━━━━━━\u001b[0m\u001b[37m\u001b[0m \u001b[1m11s\u001b[0m 125ms/step - accuracy: 0.2306 - loss: 1.6481 - val_accuracy: 0.2783 - val_loss: 1.5999\n",
            "Epoch 28/150\n",
            "\u001b[1m57/57\u001b[0m \u001b[32m━━━━━━━━━━━━━━━━━━━━\u001b[0m\u001b[37m\u001b[0m \u001b[1m10s\u001b[0m 114ms/step - accuracy: 0.2573 - loss: 1.6458 - val_accuracy: 0.2933 - val_loss: 1.5966\n",
            "Epoch 29/150\n",
            "\u001b[1m57/57\u001b[0m \u001b[32m━━━━━━━━━━━━━━━━━━━━\u001b[0m\u001b[37m\u001b[0m \u001b[1m10s\u001b[0m 108ms/step - accuracy: 0.2421 - loss: 1.6318 - val_accuracy: 0.3233 - val_loss: 1.5782\n",
            "Epoch 30/150\n",
            "\u001b[1m57/57\u001b[0m \u001b[32m━━━━━━━━━━━━━━━━━━━━\u001b[0m\u001b[37m\u001b[0m \u001b[1m10s\u001b[0m 106ms/step - accuracy: 0.2740 - loss: 1.6056 - val_accuracy: 0.3483 - val_loss: 1.5582\n",
            "Epoch 31/150\n",
            "\u001b[1m57/57\u001b[0m \u001b[32m━━━━━━━━━━━━━━━━━━━━\u001b[0m\u001b[37m\u001b[0m \u001b[1m11s\u001b[0m 117ms/step - accuracy: 0.2846 - loss: 1.6190 - val_accuracy: 0.2983 - val_loss: 1.5627\n",
            "Epoch 32/150\n",
            "\u001b[1m57/57\u001b[0m \u001b[32m━━━━━━━━━━━━━━━━━━━━\u001b[0m\u001b[37m\u001b[0m \u001b[1m6s\u001b[0m 108ms/step - accuracy: 0.2976 - loss: 1.5839 - val_accuracy: 0.3267 - val_loss: 1.5435\n",
            "Epoch 33/150\n",
            "\u001b[1m57/57\u001b[0m \u001b[32m━━━━━━━━━━━━━━━━━━━━\u001b[0m\u001b[37m\u001b[0m \u001b[1m10s\u001b[0m 106ms/step - accuracy: 0.2956 - loss: 1.5485 - val_accuracy: 0.3650 - val_loss: 1.5225\n",
            "Epoch 34/150\n",
            "\u001b[1m57/57\u001b[0m \u001b[32m━━━━━━━━━━━━━━━━━━━━\u001b[0m\u001b[37m\u001b[0m \u001b[1m10s\u001b[0m 107ms/step - accuracy: 0.3318 - loss: 1.5263 - val_accuracy: 0.3433 - val_loss: 1.5268\n",
            "Epoch 35/150\n",
            "\u001b[1m57/57\u001b[0m \u001b[32m━━━━━━━━━━━━━━━━━━━━\u001b[0m\u001b[37m\u001b[0m \u001b[1m11s\u001b[0m 121ms/step - accuracy: 0.3312 - loss: 1.5356 - val_accuracy: 0.3833 - val_loss: 1.4974\n",
            "Epoch 36/150\n",
            "\u001b[1m57/57\u001b[0m \u001b[32m━━━━━━━━━━━━━━━━━━━━\u001b[0m\u001b[37m\u001b[0m \u001b[1m6s\u001b[0m 105ms/step - accuracy: 0.3465 - loss: 1.4977 - val_accuracy: 0.3733 - val_loss: 1.4941\n",
            "Epoch 37/150\n",
            "\u001b[1m57/57\u001b[0m \u001b[32m━━━━━━━━━━━━━━━━━━━━\u001b[0m\u001b[37m\u001b[0m \u001b[1m10s\u001b[0m 106ms/step - accuracy: 0.3293 - loss: 1.5158 - val_accuracy: 0.3533 - val_loss: 1.5246\n",
            "Epoch 38/150\n",
            "\u001b[1m57/57\u001b[0m \u001b[32m━━━━━━━━━━━━━━━━━━━━\u001b[0m\u001b[37m\u001b[0m \u001b[1m10s\u001b[0m 106ms/step - accuracy: 0.3626 - loss: 1.5099 - val_accuracy: 0.4133 - val_loss: 1.4466\n",
            "Epoch 39/150\n",
            "\u001b[1m57/57\u001b[0m \u001b[32m━━━━━━━━━━━━━━━━━━━━\u001b[0m\u001b[37m\u001b[0m \u001b[1m7s\u001b[0m 119ms/step - accuracy: 0.4005 - loss: 1.4398 - val_accuracy: 0.3817 - val_loss: 1.4663\n",
            "Epoch 40/150\n",
            "\u001b[1m57/57\u001b[0m \u001b[32m━━━━━━━━━━━━━━━━━━━━\u001b[0m\u001b[37m\u001b[0m \u001b[1m10s\u001b[0m 106ms/step - accuracy: 0.4081 - loss: 1.4436 - val_accuracy: 0.4300 - val_loss: 1.4412\n",
            "Epoch 41/150\n",
            "\u001b[1m57/57\u001b[0m \u001b[32m━━━━━━━━━━━━━━━━━━━━\u001b[0m\u001b[37m\u001b[0m \u001b[1m10s\u001b[0m 107ms/step - accuracy: 0.4270 - loss: 1.4161 - val_accuracy: 0.4550 - val_loss: 1.4294\n",
            "Epoch 42/150\n",
            "\u001b[1m57/57\u001b[0m \u001b[32m━━━━━━━━━━━━━━━━━━━━\u001b[0m\u001b[37m\u001b[0m \u001b[1m11s\u001b[0m 116ms/step - accuracy: 0.4311 - loss: 1.4077 - val_accuracy: 0.4133 - val_loss: 1.4390\n",
            "Epoch 43/150\n",
            "\u001b[1m57/57\u001b[0m \u001b[32m━━━━━━━━━━━━━━━━━━━━\u001b[0m\u001b[37m\u001b[0m \u001b[1m11s\u001b[0m 126ms/step - accuracy: 0.4435 - loss: 1.3708 - val_accuracy: 0.4450 - val_loss: 1.4231\n",
            "Epoch 44/150\n",
            "\u001b[1m57/57\u001b[0m \u001b[32m━━━━━━━━━━━━━━━━━━━━\u001b[0m\u001b[37m\u001b[0m \u001b[1m9s\u001b[0m 112ms/step - accuracy: 0.4526 - loss: 1.3787 - val_accuracy: 0.4450 - val_loss: 1.3983\n",
            "Epoch 45/150\n",
            "\u001b[1m57/57\u001b[0m \u001b[32m━━━━━━━━━━━━━━━━━━━━\u001b[0m\u001b[37m\u001b[0m \u001b[1m10s\u001b[0m 106ms/step - accuracy: 0.4377 - loss: 1.3692 - val_accuracy: 0.4550 - val_loss: 1.4141\n",
            "Epoch 46/150\n",
            "\u001b[1m57/57\u001b[0m \u001b[32m━━━━━━━━━━━━━━━━━━━━\u001b[0m\u001b[37m\u001b[0m \u001b[1m10s\u001b[0m 107ms/step - accuracy: 0.4187 - loss: 1.3930 - val_accuracy: 0.4550 - val_loss: 1.4038\n",
            "Epoch 47/150\n",
            "\u001b[1m57/57\u001b[0m \u001b[32m━━━━━━━━━━━━━━━━━━━━\u001b[0m\u001b[37m\u001b[0m \u001b[1m12s\u001b[0m 132ms/step - accuracy: 0.4586 - loss: 1.3501 - val_accuracy: 0.4417 - val_loss: 1.4133\n",
            "Epoch 48/150\n",
            "\u001b[1m57/57\u001b[0m \u001b[32m━━━━━━━━━━━━━━━━━━━━\u001b[0m\u001b[37m\u001b[0m \u001b[1m10s\u001b[0m 131ms/step - accuracy: 0.4667 - loss: 1.3588 - val_accuracy: 0.4333 - val_loss: 1.4124\n",
            "Epoch 49/150\n",
            "\u001b[1m57/57\u001b[0m \u001b[32m━━━━━━━━━━━━━━━━━━━━\u001b[0m\u001b[37m\u001b[0m \u001b[1m6s\u001b[0m 106ms/step - accuracy: 0.4730 - loss: 1.3498 - val_accuracy: 0.4467 - val_loss: 1.3908\n",
            "Epoch 50/150\n",
            "\u001b[1m57/57\u001b[0m \u001b[32m━━━━━━━━━━━━━━━━━━━━\u001b[0m\u001b[37m\u001b[0m \u001b[1m11s\u001b[0m 121ms/step - accuracy: 0.4820 - loss: 1.3088 - val_accuracy: 0.4400 - val_loss: 1.4157\n",
            "Epoch 51/150\n",
            "\u001b[1m57/57\u001b[0m \u001b[32m━━━━━━━━━━━━━━━━━━━━\u001b[0m\u001b[37m\u001b[0m \u001b[1m11s\u001b[0m 128ms/step - accuracy: 0.4759 - loss: 1.3137 - val_accuracy: 0.4433 - val_loss: 1.3905\n",
            "Epoch 52/150\n",
            "\u001b[1m57/57\u001b[0m \u001b[32m━━━━━━━━━━━━━━━━━━━━\u001b[0m\u001b[37m\u001b[0m \u001b[1m9s\u001b[0m 106ms/step - accuracy: 0.4435 - loss: 1.3815 - val_accuracy: 0.4533 - val_loss: 1.3751\n",
            "Epoch 53/150\n",
            "\u001b[1m57/57\u001b[0m \u001b[32m━━━━━━━━━━━━━━━━━━━━\u001b[0m\u001b[37m\u001b[0m \u001b[1m11s\u001b[0m 116ms/step - accuracy: 0.4548 - loss: 1.3713 - val_accuracy: 0.4800 - val_loss: 1.3586\n",
            "Epoch 54/150\n",
            "\u001b[1m57/57\u001b[0m \u001b[32m━━━━━━━━━━━━━━━━━━━━\u001b[0m\u001b[37m\u001b[0m \u001b[1m10s\u001b[0m 112ms/step - accuracy: 0.4884 - loss: 1.3040 - val_accuracy: 0.4283 - val_loss: 1.4302\n",
            "Epoch 55/150\n",
            "\u001b[1m57/57\u001b[0m \u001b[32m━━━━━━━━━━━━━━━━━━━━\u001b[0m\u001b[37m\u001b[0m \u001b[1m11s\u001b[0m 126ms/step - accuracy: 0.4681 - loss: 1.3227 - val_accuracy: 0.4733 - val_loss: 1.3466\n",
            "Epoch 56/150\n",
            "\u001b[1m57/57\u001b[0m \u001b[32m━━━━━━━━━━━━━━━━━━━━\u001b[0m\u001b[37m\u001b[0m \u001b[1m6s\u001b[0m 106ms/step - accuracy: 0.5225 - loss: 1.2598 - val_accuracy: 0.4700 - val_loss: 1.3617\n",
            "Epoch 57/150\n",
            "\u001b[1m57/57\u001b[0m \u001b[32m━━━━━━━━━━━━━━━━━━━━\u001b[0m\u001b[37m\u001b[0m \u001b[1m10s\u001b[0m 108ms/step - accuracy: 0.5198 - loss: 1.2440 - val_accuracy: 0.4633 - val_loss: 1.3700\n",
            "Epoch 58/150\n",
            "\u001b[1m57/57\u001b[0m \u001b[32m━━━━━━━━━━━━━━━━━━━━\u001b[0m\u001b[37m\u001b[0m \u001b[1m11s\u001b[0m 119ms/step - accuracy: 0.5499 - loss: 1.2019 - val_accuracy: 0.4683 - val_loss: 1.3472\n",
            "Epoch 59/150\n",
            "\u001b[1m57/57\u001b[0m \u001b[32m━━━━━━━━━━━━━━━━━━━━\u001b[0m\u001b[37m\u001b[0m \u001b[1m6s\u001b[0m 106ms/step - accuracy: 0.5079 - loss: 1.2596 - val_accuracy: 0.4283 - val_loss: 1.4190\n",
            "Epoch 60/150\n",
            "\u001b[1m57/57\u001b[0m \u001b[32m━━━━━━━━━━━━━━━━━━━━\u001b[0m\u001b[37m\u001b[0m \u001b[1m10s\u001b[0m 107ms/step - accuracy: 0.4917 - loss: 1.2521 - val_accuracy: 0.4750 - val_loss: 1.3570\n",
            "Epoch 61/150\n",
            "\u001b[1m57/57\u001b[0m \u001b[32m━━━━━━━━━━━━━━━━━━━━\u001b[0m\u001b[37m\u001b[0m \u001b[1m10s\u001b[0m 107ms/step - accuracy: 0.5053 - loss: 1.3134 - val_accuracy: 0.4417 - val_loss: 1.3946\n",
            "Epoch 62/150\n",
            "\u001b[1m57/57\u001b[0m \u001b[32m━━━━━━━━━━━━━━━━━━━━\u001b[0m\u001b[37m\u001b[0m \u001b[1m11s\u001b[0m 121ms/step - accuracy: 0.5149 - loss: 1.2346 - val_accuracy: 0.4517 - val_loss: 1.3666\n",
            "Epoch 63/150\n",
            "\u001b[1m57/57\u001b[0m \u001b[32m━━━━━━━━━━━━━━━━━━━━\u001b[0m\u001b[37m\u001b[0m \u001b[1m10s\u001b[0m 126ms/step - accuracy: 0.5382 - loss: 1.2130 - val_accuracy: 0.4600 - val_loss: 1.3681\n",
            "Epoch 64/150\n",
            "\u001b[1m57/57\u001b[0m \u001b[32m━━━━━━━━━━━━━━━━━━━━\u001b[0m\u001b[37m\u001b[0m \u001b[1m9s\u001b[0m 108ms/step - accuracy: 0.5414 - loss: 1.1996 - val_accuracy: 0.4667 - val_loss: 1.3449\n",
            "Epoch 65/150\n",
            "\u001b[1m57/57\u001b[0m \u001b[32m━━━━━━━━━━━━━━━━━━━━\u001b[0m\u001b[37m\u001b[0m \u001b[1m11s\u001b[0m 117ms/step - accuracy: 0.5912 - loss: 1.1510 - val_accuracy: 0.4683 - val_loss: 1.3452\n",
            "Epoch 66/150\n",
            "\u001b[1m57/57\u001b[0m \u001b[32m━━━━━━━━━━━━━━━━━━━━\u001b[0m\u001b[37m\u001b[0m \u001b[1m7s\u001b[0m 125ms/step - accuracy: 0.5474 - loss: 1.1869 - val_accuracy: 0.4783 - val_loss: 1.3431\n",
            "Epoch 67/150\n",
            "\u001b[1m57/57\u001b[0m \u001b[32m━━━━━━━━━━━━━━━━━━━━\u001b[0m\u001b[37m\u001b[0m \u001b[1m6s\u001b[0m 106ms/step - accuracy: 0.5592 - loss: 1.1743 - val_accuracy: 0.4567 - val_loss: 1.4256\n",
            "Epoch 68/150\n",
            "\u001b[1m57/57\u001b[0m \u001b[32m━━━━━━━━━━━━━━━━━━━━\u001b[0m\u001b[37m\u001b[0m \u001b[1m11s\u001b[0m 125ms/step - accuracy: 0.5363 - loss: 1.1935 - val_accuracy: 0.4933 - val_loss: 1.3371\n",
            "Epoch 69/150\n",
            "\u001b[1m57/57\u001b[0m \u001b[32m━━━━━━━━━━━━━━━━━━━━\u001b[0m\u001b[37m\u001b[0m \u001b[1m10s\u001b[0m 128ms/step - accuracy: 0.5674 - loss: 1.1330 - val_accuracy: 0.4833 - val_loss: 1.3297\n",
            "Epoch 70/150\n",
            "\u001b[1m57/57\u001b[0m \u001b[32m━━━━━━━━━━━━━━━━━━━━\u001b[0m\u001b[37m\u001b[0m \u001b[1m9s\u001b[0m 112ms/step - accuracy: 0.5653 - loss: 1.1697 - val_accuracy: 0.5000 - val_loss: 1.3258\n",
            "Epoch 71/150\n",
            "\u001b[1m57/57\u001b[0m \u001b[32m━━━━━━━━━━━━━━━━━━━━\u001b[0m\u001b[37m\u001b[0m \u001b[1m10s\u001b[0m 107ms/step - accuracy: 0.5832 - loss: 1.1187 - val_accuracy: 0.4867 - val_loss: 1.3334\n",
            "Epoch 72/150\n",
            "\u001b[1m57/57\u001b[0m \u001b[32m━━━━━━━━━━━━━━━━━━━━\u001b[0m\u001b[37m\u001b[0m \u001b[1m10s\u001b[0m 108ms/step - accuracy: 0.5517 - loss: 1.1605 - val_accuracy: 0.4850 - val_loss: 1.3220\n",
            "Epoch 73/150\n",
            "\u001b[1m57/57\u001b[0m \u001b[32m━━━━━━━━━━━━━━━━━━━━\u001b[0m\u001b[37m\u001b[0m \u001b[1m7s\u001b[0m 128ms/step - accuracy: 0.5828 - loss: 1.1278 - val_accuracy: 0.4800 - val_loss: 1.3116\n",
            "Epoch 74/150\n",
            "\u001b[1m57/57\u001b[0m \u001b[32m━━━━━━━━━━━━━━━━━━━━\u001b[0m\u001b[37m\u001b[0m \u001b[1m9s\u001b[0m 107ms/step - accuracy: 0.5574 - loss: 1.2044 - val_accuracy: 0.5000 - val_loss: 1.3026\n",
            "Epoch 75/150\n",
            "\u001b[1m57/57\u001b[0m \u001b[32m━━━━━━━━━━━━━━━━━━━━\u001b[0m\u001b[37m\u001b[0m \u001b[1m11s\u001b[0m 118ms/step - accuracy: 0.5686 - loss: 1.1387 - val_accuracy: 0.4933 - val_loss: 1.3150\n",
            "Epoch 76/150\n",
            "\u001b[1m57/57\u001b[0m \u001b[32m━━━━━━━━━━━━━━━━━━━━\u001b[0m\u001b[37m\u001b[0m \u001b[1m10s\u001b[0m 114ms/step - accuracy: 0.6021 - loss: 1.0860 - val_accuracy: 0.5083 - val_loss: 1.3081\n",
            "Epoch 77/150\n",
            "\u001b[1m57/57\u001b[0m \u001b[32m━━━━━━━━━━━━━━━━━━━━\u001b[0m\u001b[37m\u001b[0m \u001b[1m6s\u001b[0m 113ms/step - accuracy: 0.5869 - loss: 1.0882 - val_accuracy: 0.5067 - val_loss: 1.3092\n",
            "Epoch 78/150\n",
            "\u001b[1m57/57\u001b[0m \u001b[32m━━━━━━━━━━━━━━━━━━━━\u001b[0m\u001b[37m\u001b[0m \u001b[1m10s\u001b[0m 107ms/step - accuracy: 0.6035 - loss: 1.1106 - val_accuracy: 0.4750 - val_loss: 1.3398\n",
            "Epoch 79/150\n",
            "\u001b[1m57/57\u001b[0m \u001b[32m━━━━━━━━━━━━━━━━━━━━\u001b[0m\u001b[37m\u001b[0m \u001b[1m10s\u001b[0m 107ms/step - accuracy: 0.5630 - loss: 1.1398 - val_accuracy: 0.4933 - val_loss: 1.2884\n",
            "Epoch 80/150\n",
            "\u001b[1m57/57\u001b[0m \u001b[32m━━━━━━━━━━━━━━━━━━━━\u001b[0m\u001b[37m\u001b[0m \u001b[1m11s\u001b[0m 120ms/step - accuracy: 0.5897 - loss: 1.0780 - val_accuracy: 0.5000 - val_loss: 1.3204\n",
            "Epoch 81/150\n",
            "\u001b[1m57/57\u001b[0m \u001b[32m━━━━━━━━━━━━━━━━━━━━\u001b[0m\u001b[37m\u001b[0m \u001b[1m11s\u001b[0m 136ms/step - accuracy: 0.5927 - loss: 1.1028 - val_accuracy: 0.3900 - val_loss: 1.6192\n",
            "Epoch 82/150\n",
            "\u001b[1m57/57\u001b[0m \u001b[32m━━━━━━━━━━━━━━━━━━━━\u001b[0m\u001b[37m\u001b[0m \u001b[1m9s\u001b[0m 108ms/step - accuracy: 0.4832 - loss: 1.3135 - val_accuracy: 0.4817 - val_loss: 1.3562\n",
            "Epoch 83/150\n",
            "\u001b[1m57/57\u001b[0m \u001b[32m━━━━━━━━━━━━━━━━━━━━\u001b[0m\u001b[37m\u001b[0m \u001b[1m10s\u001b[0m 106ms/step - accuracy: 0.4532 - loss: 1.3849 - val_accuracy: 0.3317 - val_loss: 1.5674\n",
            "Epoch 84/150\n",
            "\u001b[1m57/57\u001b[0m \u001b[32m━━━━━━━━━━━━━━━━━━━━\u001b[0m\u001b[37m\u001b[0m \u001b[1m10s\u001b[0m 108ms/step - accuracy: 0.3432 - loss: 1.5289 - val_accuracy: 0.3817 - val_loss: 1.4916\n",
            "Epoch 85/150\n",
            "\u001b[1m57/57\u001b[0m \u001b[32m━━━━━━━━━━━━━━━━━━━━\u001b[0m\u001b[37m\u001b[0m \u001b[1m11s\u001b[0m 127ms/step - accuracy: 0.4461 - loss: 1.3649 - val_accuracy: 0.3917 - val_loss: 1.4604\n",
            "Epoch 86/150\n",
            "\u001b[1m57/57\u001b[0m \u001b[32m━━━━━━━━━━━━━━━━━━━━\u001b[0m\u001b[37m\u001b[0m \u001b[1m10s\u001b[0m 122ms/step - accuracy: 0.4702 - loss: 1.3043 - val_accuracy: 0.4500 - val_loss: 1.3991\n",
            "Epoch 87/150\n",
            "\u001b[1m57/57\u001b[0m \u001b[32m━━━━━━━━━━━━━━━━━━━━\u001b[0m\u001b[37m\u001b[0m \u001b[1m6s\u001b[0m 108ms/step - accuracy: 0.4905 - loss: 1.2865 - val_accuracy: 0.4500 - val_loss: 1.3804\n",
            "Epoch 88/150\n",
            "\u001b[1m57/57\u001b[0m \u001b[32m━━━━━━━━━━━━━━━━━━━━\u001b[0m\u001b[37m\u001b[0m \u001b[1m11s\u001b[0m 123ms/step - accuracy: 0.5148 - loss: 1.2175 - val_accuracy: 0.4683 - val_loss: 1.3767\n",
            "Epoch 89/150\n",
            "\u001b[1m57/57\u001b[0m \u001b[32m━━━━━━━━━━━━━━━━━━━━\u001b[0m\u001b[37m\u001b[0m \u001b[1m10s\u001b[0m 128ms/step - accuracy: 0.5627 - loss: 1.1741 - val_accuracy: 0.4650 - val_loss: 1.3552\n",
            "Epoch 90/150\n",
            "\u001b[1m57/57\u001b[0m \u001b[32m━━━━━━━━━━━━━━━━━━━━\u001b[0m\u001b[37m\u001b[0m \u001b[1m9s\u001b[0m 112ms/step - accuracy: 0.5686 - loss: 1.1641 - val_accuracy: 0.4650 - val_loss: 1.3558\n",
            "Epoch 91/150\n",
            "\u001b[1m57/57\u001b[0m \u001b[32m━━━━━━━━━━━━━━━━━━━━\u001b[0m\u001b[37m\u001b[0m \u001b[1m10s\u001b[0m 111ms/step - accuracy: 0.5803 - loss: 1.1146 - val_accuracy: 0.4750 - val_loss: 1.3486\n",
            "Epoch 92/150\n",
            "\u001b[1m57/57\u001b[0m \u001b[32m━━━━━━━━━━━━━━━━━━━━\u001b[0m\u001b[37m\u001b[0m \u001b[1m11s\u001b[0m 121ms/step - accuracy: 0.6106 - loss: 1.0699 - val_accuracy: 0.4917 - val_loss: 1.3412\n",
            "Epoch 93/150\n",
            "\u001b[1m57/57\u001b[0m \u001b[32m━━━━━━━━━━━━━━━━━━━━\u001b[0m\u001b[37m\u001b[0m \u001b[1m11s\u001b[0m 126ms/step - accuracy: 0.6217 - loss: 1.0561 - val_accuracy: 0.5000 - val_loss: 1.3128\n",
            "Epoch 94/150\n",
            "\u001b[1m57/57\u001b[0m \u001b[32m━━━━━━━━━━━━━━━━━━━━\u001b[0m\u001b[37m\u001b[0m \u001b[1m6s\u001b[0m 107ms/step - accuracy: 0.6297 - loss: 1.0073 - val_accuracy: 0.5033 - val_loss: 1.2929\n",
            "Epoch 95/150\n",
            "\u001b[1m57/57\u001b[0m \u001b[32m━━━━━━━━━━━━━━━━━━━━\u001b[0m\u001b[37m\u001b[0m \u001b[1m11s\u001b[0m 118ms/step - accuracy: 0.6292 - loss: 1.0322 - val_accuracy: 0.5150 - val_loss: 1.2826\n",
            "Epoch 96/150\n",
            "\u001b[1m57/57\u001b[0m \u001b[32m━━━━━━━━━━━━━━━━━━━━\u001b[0m\u001b[37m\u001b[0m \u001b[1m11s\u001b[0m 126ms/step - accuracy: 0.5913 - loss: 1.0923 - val_accuracy: 0.5183 - val_loss: 1.2981\n",
            "Epoch 97/150\n",
            "\u001b[1m57/57\u001b[0m \u001b[32m━━━━━━━━━━━━━━━━━━━━\u001b[0m\u001b[37m\u001b[0m \u001b[1m6s\u001b[0m 106ms/step - accuracy: 0.6431 - loss: 0.9926 - val_accuracy: 0.5200 - val_loss: 1.2766\n",
            "Epoch 98/150\n",
            "\u001b[1m57/57\u001b[0m \u001b[32m━━━━━━━━━━━━━━━━━━━━\u001b[0m\u001b[37m\u001b[0m \u001b[1m7s\u001b[0m 123ms/step - accuracy: 0.6271 - loss: 0.9972 - val_accuracy: 0.5233 - val_loss: 1.2791\n",
            "Epoch 99/150\n",
            "\u001b[1m57/57\u001b[0m \u001b[32m━━━━━━━━━━━━━━━━━━━━\u001b[0m\u001b[37m\u001b[0m \u001b[1m6s\u001b[0m 107ms/step - accuracy: 0.6455 - loss: 0.9814 - val_accuracy: 0.5133 - val_loss: 1.2938\n",
            "Epoch 100/150\n",
            "\u001b[1m57/57\u001b[0m \u001b[32m━━━━━━━━━━━━━━━━━━━━\u001b[0m\u001b[37m\u001b[0m \u001b[1m7s\u001b[0m 124ms/step - accuracy: 0.6562 - loss: 0.9599 - val_accuracy: 0.5200 - val_loss: 1.3124\n",
            "Epoch 101/150\n",
            "\u001b[1m57/57\u001b[0m \u001b[32m━━━━━━━━━━━━━━━━━━━━\u001b[0m\u001b[37m\u001b[0m \u001b[1m6s\u001b[0m 105ms/step - accuracy: 0.6442 - loss: 0.9845 - val_accuracy: 0.5200 - val_loss: 1.2673\n",
            "Epoch 102/150\n",
            "\u001b[1m57/57\u001b[0m \u001b[32m━━━━━━━━━━━━━━━━━━━━\u001b[0m\u001b[37m\u001b[0m \u001b[1m11s\u001b[0m 123ms/step - accuracy: 0.6731 - loss: 0.9385 - val_accuracy: 0.5267 - val_loss: 1.2586\n",
            "Epoch 103/150\n",
            "\u001b[1m57/57\u001b[0m \u001b[32m━━━━━━━━━━━━━━━━━━━━\u001b[0m\u001b[37m\u001b[0m \u001b[1m10s\u001b[0m 123ms/step - accuracy: 0.6605 - loss: 0.9394 - val_accuracy: 0.5250 - val_loss: 1.2684\n",
            "Epoch 104/150\n",
            "\u001b[1m57/57\u001b[0m \u001b[32m━━━━━━━━━━━━━━━━━━━━\u001b[0m\u001b[37m\u001b[0m \u001b[1m9s\u001b[0m 107ms/step - accuracy: 0.6756 - loss: 0.9263 - val_accuracy: 0.5200 - val_loss: 1.2858\n",
            "Epoch 105/150\n",
            "\u001b[1m57/57\u001b[0m \u001b[32m━━━━━━━━━━━━━━━━━━━━\u001b[0m\u001b[37m\u001b[0m \u001b[1m8s\u001b[0m 135ms/step - accuracy: 0.6774 - loss: 0.9366 - val_accuracy: 0.5400 - val_loss: 1.2932\n",
            "Epoch 106/150\n",
            "\u001b[1m57/57\u001b[0m \u001b[32m━━━━━━━━━━━━━━━━━━━━\u001b[0m\u001b[37m\u001b[0m \u001b[1m9s\u001b[0m 119ms/step - accuracy: 0.7007 - loss: 0.8653 - val_accuracy: 0.5433 - val_loss: 1.2522\n",
            "Epoch 107/150\n",
            "\u001b[1m57/57\u001b[0m \u001b[32m━━━━━━━━━━━━━━━━━━━━\u001b[0m\u001b[37m\u001b[0m \u001b[1m6s\u001b[0m 112ms/step - accuracy: 0.6890 - loss: 0.8847 - val_accuracy: 0.5333 - val_loss: 1.2808\n",
            "Epoch 108/150\n",
            "\u001b[1m57/57\u001b[0m \u001b[32m━━━━━━━━━━━━━━━━━━━━\u001b[0m\u001b[37m\u001b[0m \u001b[1m11s\u001b[0m 124ms/step - accuracy: 0.6616 - loss: 0.9227 - val_accuracy: 0.5250 - val_loss: 1.2986\n",
            "Epoch 109/150\n",
            "\u001b[1m57/57\u001b[0m \u001b[32m━━━━━━━━━━━━━━━━━━━━\u001b[0m\u001b[37m\u001b[0m \u001b[1m10s\u001b[0m 120ms/step - accuracy: 0.6662 - loss: 0.9196 - val_accuracy: 0.5250 - val_loss: 1.2914\n",
            "Epoch 110/150\n",
            "\u001b[1m57/57\u001b[0m \u001b[32m━━━━━━━━━━━━━━━━━━━━\u001b[0m\u001b[37m\u001b[0m \u001b[1m10s\u001b[0m 107ms/step - accuracy: 0.6951 - loss: 0.8779 - val_accuracy: 0.5150 - val_loss: 1.3108\n",
            "Epoch 111/150\n",
            "\u001b[1m57/57\u001b[0m \u001b[32m━━━━━━━━━━━━━━━━━━━━\u001b[0m\u001b[37m\u001b[0m \u001b[1m10s\u001b[0m 106ms/step - accuracy: 0.6367 - loss: 0.9839 - val_accuracy: 0.5017 - val_loss: 1.3520\n",
            "Epoch 112/150\n",
            "\u001b[1m57/57\u001b[0m \u001b[32m━━━━━━━━━━━━━━━━━━━━\u001b[0m\u001b[37m\u001b[0m \u001b[1m11s\u001b[0m 117ms/step - accuracy: 0.6176 - loss: 1.0203 - val_accuracy: 0.5000 - val_loss: 1.3242\n",
            "Epoch 113/150\n",
            "\u001b[1m57/57\u001b[0m \u001b[32m━━━━━━━━━━━━━━━━━━━━\u001b[0m\u001b[37m\u001b[0m \u001b[1m11s\u001b[0m 125ms/step - accuracy: 0.6868 - loss: 0.8938 - val_accuracy: 0.5417 - val_loss: 1.2812\n",
            "Epoch 114/150\n",
            "\u001b[1m57/57\u001b[0m \u001b[32m━━━━━━━━━━━━━━━━━━━━\u001b[0m\u001b[37m\u001b[0m \u001b[1m6s\u001b[0m 106ms/step - accuracy: 0.6886 - loss: 0.8813 - val_accuracy: 0.5167 - val_loss: 1.3085\n",
            "Epoch 115/150\n",
            "\u001b[1m57/57\u001b[0m \u001b[32m━━━━━━━━━━━━━━━━━━━━\u001b[0m\u001b[37m\u001b[0m \u001b[1m10s\u001b[0m 109ms/step - accuracy: 0.6907 - loss: 0.8505 - val_accuracy: 0.4750 - val_loss: 1.4286\n",
            "Epoch 116/150\n",
            "\u001b[1m57/57\u001b[0m \u001b[32m━━━━━━━━━━━━━━━━━━━━\u001b[0m\u001b[37m\u001b[0m \u001b[1m11s\u001b[0m 126ms/step - accuracy: 0.6633 - loss: 0.9138 - val_accuracy: 0.5333 - val_loss: 1.3185\n",
            "Epoch 117/150\n",
            "\u001b[1m57/57\u001b[0m \u001b[32m━━━━━━━━━━━━━━━━━━━━\u001b[0m\u001b[37m\u001b[0m \u001b[1m10s\u001b[0m 120ms/step - accuracy: 0.6573 - loss: 0.9675 - val_accuracy: 0.5333 - val_loss: 1.2708\n",
            "Epoch 118/150\n",
            "\u001b[1m57/57\u001b[0m \u001b[32m━━━━━━━━━━━━━━━━━━━━\u001b[0m\u001b[37m\u001b[0m \u001b[1m10s\u001b[0m 108ms/step - accuracy: 0.6937 - loss: 0.8322 - val_accuracy: 0.5283 - val_loss: 1.2931\n",
            "Epoch 119/150\n",
            "\u001b[1m57/57\u001b[0m \u001b[32m━━━━━━━━━━━━━━━━━━━━\u001b[0m\u001b[37m\u001b[0m \u001b[1m7s\u001b[0m 126ms/step - accuracy: 0.7185 - loss: 0.8026 - val_accuracy: 0.5300 - val_loss: 1.2882\n",
            "Epoch 120/150\n",
            "\u001b[1m57/57\u001b[0m \u001b[32m━━━━━━━━━━━━━━━━━━━━\u001b[0m\u001b[37m\u001b[0m \u001b[1m10s\u001b[0m 116ms/step - accuracy: 0.6973 - loss: 0.8337 - val_accuracy: 0.5067 - val_loss: 1.3450\n",
            "Epoch 121/150\n",
            "\u001b[1m57/57\u001b[0m \u001b[32m━━━━━━━━━━━━━━━━━━━━\u001b[0m\u001b[37m\u001b[0m \u001b[1m10s\u001b[0m 107ms/step - accuracy: 0.6846 - loss: 0.8600 - val_accuracy: 0.5283 - val_loss: 1.3114\n",
            "Epoch 122/150\n",
            "\u001b[1m57/57\u001b[0m \u001b[32m━━━━━━━━━━━━━━━━━━━━\u001b[0m\u001b[37m\u001b[0m \u001b[1m10s\u001b[0m 107ms/step - accuracy: 0.6779 - loss: 0.8777 - val_accuracy: 0.5267 - val_loss: 1.3326\n",
            "Epoch 123/150\n",
            "\u001b[1m57/57\u001b[0m \u001b[32m━━━━━━━━━━━━━━━━━━━━\u001b[0m\u001b[37m\u001b[0m \u001b[1m11s\u001b[0m 118ms/step - accuracy: 0.7175 - loss: 0.7808 - val_accuracy: 0.5183 - val_loss: 1.3127\n",
            "Epoch 124/150\n",
            "\u001b[1m57/57\u001b[0m \u001b[32m━━━━━━━━━━━━━━━━━━━━\u001b[0m\u001b[37m\u001b[0m \u001b[1m11s\u001b[0m 126ms/step - accuracy: 0.7189 - loss: 0.8460 - val_accuracy: 0.5250 - val_loss: 1.3099\n",
            "Epoch 125/150\n",
            "\u001b[1m57/57\u001b[0m \u001b[32m━━━━━━━━━━━━━━━━━━━━\u001b[0m\u001b[37m\u001b[0m \u001b[1m9s\u001b[0m 109ms/step - accuracy: 0.6974 - loss: 0.8379 - val_accuracy: 0.5133 - val_loss: 1.3375\n",
            "Epoch 126/150\n",
            "\u001b[1m57/57\u001b[0m \u001b[32m━━━━━━━━━━━━━━━━━━━━\u001b[0m\u001b[37m\u001b[0m \u001b[1m10s\u001b[0m 107ms/step - accuracy: 0.6925 - loss: 0.8810 - val_accuracy: 0.4550 - val_loss: 1.4938\n",
            "Epoch 127/150\n",
            "\u001b[1m57/57\u001b[0m \u001b[32m━━━━━━━━━━━━━━━━━━━━\u001b[0m\u001b[37m\u001b[0m \u001b[1m7s\u001b[0m 126ms/step - accuracy: 0.5801 - loss: 1.1587 - val_accuracy: 0.4700 - val_loss: 1.4085\n",
            "Epoch 128/150\n",
            "\u001b[1m57/57\u001b[0m \u001b[32m━━━━━━━━━━━━━━━━━━━━\u001b[0m\u001b[37m\u001b[0m \u001b[1m10s\u001b[0m 112ms/step - accuracy: 0.5516 - loss: 1.2313 - val_accuracy: 0.4367 - val_loss: 1.4332\n",
            "Epoch 129/150\n",
            "\u001b[1m57/57\u001b[0m \u001b[32m━━━━━━━━━━━━━━━━━━━━\u001b[0m\u001b[37m\u001b[0m \u001b[1m10s\u001b[0m 107ms/step - accuracy: 0.5864 - loss: 1.0954 - val_accuracy: 0.4933 - val_loss: 1.3506\n",
            "Epoch 130/150\n",
            "\u001b[1m57/57\u001b[0m \u001b[32m━━━━━━━━━━━━━━━━━━━━\u001b[0m\u001b[37m\u001b[0m \u001b[1m10s\u001b[0m 107ms/step - accuracy: 0.6364 - loss: 0.9994 - val_accuracy: 0.5200 - val_loss: 1.3400\n",
            "Epoch 131/150\n",
            "\u001b[1m57/57\u001b[0m \u001b[32m━━━━━━━━━━━━━━━━━━━━\u001b[0m\u001b[37m\u001b[0m \u001b[1m7s\u001b[0m 124ms/step - accuracy: 0.6456 - loss: 0.9208 - val_accuracy: 0.5200 - val_loss: 1.3300\n",
            "Epoch 132/150\n",
            "\u001b[1m57/57\u001b[0m \u001b[32m━━━━━━━━━━━━━━━━━━━━\u001b[0m\u001b[37m\u001b[0m \u001b[1m9s\u001b[0m 107ms/step - accuracy: 0.7019 - loss: 0.8494 - val_accuracy: 0.5250 - val_loss: 1.3507\n",
            "Epoch 133/150\n",
            "\u001b[1m57/57\u001b[0m \u001b[32m━━━━━━━━━━━━━━━━━━━━\u001b[0m\u001b[37m\u001b[0m \u001b[1m10s\u001b[0m 106ms/step - accuracy: 0.7089 - loss: 0.8360 - val_accuracy: 0.5150 - val_loss: 1.3581\n",
            "Epoch 134/150\n",
            "\u001b[1m57/57\u001b[0m \u001b[32m━━━━━━━━━━━━━━━━━━━━\u001b[0m\u001b[37m\u001b[0m \u001b[1m11s\u001b[0m 115ms/step - accuracy: 0.7168 - loss: 0.8120 - val_accuracy: 0.5200 - val_loss: 1.3693\n",
            "Epoch 135/150\n",
            "\u001b[1m57/57\u001b[0m \u001b[32m━━━━━━━━━━━━━━━━━━━━\u001b[0m\u001b[37m\u001b[0m \u001b[1m11s\u001b[0m 125ms/step - accuracy: 0.6516 - loss: 0.9357 - val_accuracy: 0.5000 - val_loss: 1.3511\n",
            "Epoch 136/150\n",
            "\u001b[1m57/57\u001b[0m \u001b[32m━━━━━━━━━━━━━━━━━━━━\u001b[0m\u001b[37m\u001b[0m \u001b[1m6s\u001b[0m 106ms/step - accuracy: 0.7029 - loss: 0.8897 - val_accuracy: 0.5533 - val_loss: 1.2974\n",
            "Epoch 137/150\n",
            "\u001b[1m57/57\u001b[0m \u001b[32m━━━━━━━━━━━━━━━━━━━━\u001b[0m\u001b[37m\u001b[0m \u001b[1m7s\u001b[0m 126ms/step - accuracy: 0.7115 - loss: 0.8173 - val_accuracy: 0.5300 - val_loss: 1.3451\n",
            "Epoch 138/150\n",
            "\u001b[1m57/57\u001b[0m \u001b[32m━━━━━━━━━━━━━━━━━━━━\u001b[0m\u001b[37m\u001b[0m \u001b[1m9s\u001b[0m 108ms/step - accuracy: 0.7199 - loss: 0.8307 - val_accuracy: 0.5333 - val_loss: 1.3884\n",
            "Epoch 139/150\n",
            "\u001b[1m57/57\u001b[0m \u001b[32m━━━━━━━━━━━━━━━━━━━━\u001b[0m\u001b[37m\u001b[0m \u001b[1m7s\u001b[0m 125ms/step - accuracy: 0.7054 - loss: 0.8404 - val_accuracy: 0.5383 - val_loss: 1.3052\n",
            "Epoch 140/150\n",
            "\u001b[1m57/57\u001b[0m \u001b[32m━━━━━━━━━━━━━━━━━━━━\u001b[0m\u001b[37m\u001b[0m \u001b[1m10s\u001b[0m 123ms/step - accuracy: 0.7556 - loss: 0.7360 - val_accuracy: 0.5233 - val_loss: 1.3364\n",
            "Epoch 141/150\n",
            "\u001b[1m57/57\u001b[0m \u001b[32m━━━━━━━━━━━━━━━━━━━━\u001b[0m\u001b[37m\u001b[0m \u001b[1m9s\u001b[0m 107ms/step - accuracy: 0.7426 - loss: 0.7364 - val_accuracy: 0.5350 - val_loss: 1.3535\n",
            "Epoch 142/150\n",
            "\u001b[1m57/57\u001b[0m \u001b[32m━━━━━━━━━━━━━━━━━━━━\u001b[0m\u001b[37m\u001b[0m \u001b[1m10s\u001b[0m 107ms/step - accuracy: 0.7406 - loss: 0.7181 - val_accuracy: 0.5350 - val_loss: 1.3551\n",
            "Epoch 143/150\n",
            "\u001b[1m57/57\u001b[0m \u001b[32m━━━━━━━━━━━━━━━━━━━━\u001b[0m\u001b[37m\u001b[0m \u001b[1m11s\u001b[0m 116ms/step - accuracy: 0.7563 - loss: 0.6988 - val_accuracy: 0.5133 - val_loss: 1.4048\n",
            "Epoch 144/150\n",
            "\u001b[1m57/57\u001b[0m \u001b[32m━━━━━━━━━━━━━━━━━━━━\u001b[0m\u001b[37m\u001b[0m \u001b[1m6s\u001b[0m 110ms/step - accuracy: 0.7636 - loss: 0.6898 - val_accuracy: 0.5283 - val_loss: 1.3927\n",
            "Epoch 145/150\n",
            "\u001b[1m57/57\u001b[0m \u001b[32m━━━━━━━━━━━━━━━━━━━━\u001b[0m\u001b[37m\u001b[0m \u001b[1m7s\u001b[0m 120ms/step - accuracy: 0.7609 - loss: 0.6849 - val_accuracy: 0.5533 - val_loss: 1.3456\n",
            "Epoch 146/150\n",
            "\u001b[1m57/57\u001b[0m \u001b[32m━━━━━━━━━━━━━━━━━━━━\u001b[0m\u001b[37m\u001b[0m \u001b[1m6s\u001b[0m 107ms/step - accuracy: 0.7588 - loss: 0.6709 - val_accuracy: 0.5300 - val_loss: 1.4513\n",
            "Epoch 147/150\n",
            "\u001b[1m57/57\u001b[0m \u001b[32m━━━━━━━━━━━━━━━━━━━━\u001b[0m\u001b[37m\u001b[0m \u001b[1m7s\u001b[0m 125ms/step - accuracy: 0.7217 - loss: 0.7926 - val_accuracy: 0.5083 - val_loss: 1.4098\n",
            "Epoch 148/150\n",
            "\u001b[1m57/57\u001b[0m \u001b[32m━━━━━━━━━━━━━━━━━━━━\u001b[0m\u001b[37m\u001b[0m \u001b[1m6s\u001b[0m 107ms/step - accuracy: 0.7618 - loss: 0.7100 - val_accuracy: 0.5333 - val_loss: 1.3793\n",
            "Epoch 149/150\n",
            "\u001b[1m57/57\u001b[0m \u001b[32m━━━━━━━━━━━━━━━━━━━━\u001b[0m\u001b[37m\u001b[0m \u001b[1m10s\u001b[0m 106ms/step - accuracy: 0.7537 - loss: 0.7048 - val_accuracy: 0.5350 - val_loss: 1.3595\n",
            "Epoch 150/150\n",
            "\u001b[1m57/57\u001b[0m \u001b[32m━━━━━━━━━━━━━━━━━━━━\u001b[0m\u001b[37m\u001b[0m \u001b[1m11s\u001b[0m 111ms/step - accuracy: 0.7501 - loss: 0.7152 - val_accuracy: 0.5233 - val_loss: 1.4171\n",
            "25/25 - 1s - 38ms/step - accuracy: 0.5225 - loss: 1.3861\n",
            "25/25 - 1s - 38ms/step - accuracy: 0.5225 - loss: 1.3861\n",
            "25/25 - 1s - 38ms/step - accuracy: 0.5225 - loss: 1.3861\n",
            "\n",
            "Test accuracy: 0.5224999785423279\n"
          ]
        }
      ],
      "source": [
        "    input_shape = (X_train.shape[1], X_train.shape[2]) # 130, 11\n",
        "    model = build_model(input_shape)\n",
        "\n",
        "    # compile model\n",
        "    optimiser = keras.optimizers.Adam(learning_rate=0.0001)\n",
        "    model.compile(optimizer=optimiser,\n",
        "                  loss='sparse_categorical_crossentropy',\n",
        "                  metrics=['accuracy'])\n",
        "\n",
        "    model.summary()\n",
        "    early_stopping = EarlyStopping(\n",
        "    monitor='val_loss',  # Metric to monitor (usually validation loss)\n",
        "    patience=15,          # Number of epochs with no improvement after which training will be stopped\n",
        "    verbose=1,           # Verbosity mode (0 = silent, 1 = progress bar)\n",
        "    restore_best_weights=True  # Restore model weights from the epoch with the best value of the monitored quantity\n",
        ")\n",
        "    # train model\n",
        "    history = model.fit(X_train, y_train, validation_data=(X_validation, y_validation), batch_size=48, epochs=200)#, callbacks=[early_stopping])\n",
        "    # evaluate model on test set\n",
        "    tst = model.evaluate(X_test, y_test, verbose=2)\n",
        "    test_loss, test_acc =  model.evaluate(X_test, y_test, verbose=2)\n",
        "    print('\\nTest accuracy:', test_acc)"
      ]
    },
    {
      "cell_type": "markdown",
      "id": "vNLm8mnsV-98",
      "metadata": {
        "id": "vNLm8mnsV-98"
      },
      "source": []
    },
    {
      "cell_type": "code",
      "execution_count": null,
      "id": "L166BhbIpPlI",
      "metadata": {
        "colab": {
          "base_uri": "https://localhost:8080/",
          "height": 422
        },
        "id": "L166BhbIpPlI",
        "outputId": "16d9fa7d-bb2c-4d03-d746-7ee42a03ee20"
      },
      "outputs": [
        {
          "ename": "NameError",
          "evalue": "name 'model' is not defined",
          "output_type": "error",
          "traceback": [
            "\u001b[0;31m---------------------------------------------------------------------------\u001b[0m",
            "\u001b[0;31mNameError\u001b[0m                                 Traceback (most recent call last)",
            "\u001b[0;32m<ipython-input-3-ac4b62ced484>\u001b[0m in \u001b[0;36m<cell line: 18>\u001b[0;34m()\u001b[0m\n\u001b[1;32m     16\u001b[0m \u001b[0;34m\u001b[0m\u001b[0m\n\u001b[1;32m     17\u001b[0m \u001b[0;31m# Save model files with date in the filename\u001b[0m\u001b[0;34m\u001b[0m\u001b[0;34m\u001b[0m\u001b[0m\n\u001b[0;32m---> 18\u001b[0;31m \u001b[0mmodel\u001b[0m\u001b[0;34m.\u001b[0m\u001b[0msave\u001b[0m\u001b[0;34m(\u001b[0m\u001b[0mos\u001b[0m\u001b[0;34m.\u001b[0m\u001b[0mpath\u001b[0m\u001b[0;34m.\u001b[0m\u001b[0mjoin\u001b[0m\u001b[0;34m(\u001b[0m\u001b[0mmodel_dir\u001b[0m\u001b[0;34m,\u001b[0m \u001b[0;34mf\"{model_name}_{current_date}.keras\"\u001b[0m\u001b[0;34m)\u001b[0m\u001b[0;34m)\u001b[0m\u001b[0;34m\u001b[0m\u001b[0;34m\u001b[0m\u001b[0m\n\u001b[0m\u001b[1;32m     19\u001b[0m \u001b[0;34m\u001b[0m\u001b[0m\n\u001b[1;32m     20\u001b[0m \u001b[0;31m# Save model files with date in the filename\u001b[0m\u001b[0;34m\u001b[0m\u001b[0;34m\u001b[0m\u001b[0m\n",
            "\u001b[0;31mNameError\u001b[0m: name 'model' is not defined"
          ]
        }
      ],
      "source": [
        "#save my model along with date also with name and save it in google drive\n",
        "import os\n",
        "from datetime import datetime\n",
        "# Get current date and time\n",
        "now = datetime.now()\n",
        "current_date = now.strftime(\"%Y-%m-%d\")\n",
        "# Define model name\n",
        "model_name = \"nmfstft1601\"\n",
        "# Create directory for model files\n",
        "model_dir = os.path.join(\"/content/drive/MyDrive/modelv\", model_name)\n",
        "os.makedirs(model_dir, exist_ok=True)\n",
        "# Save model files with date in the filename\n",
        "model.save(os.path.join(model_dir, f\"{model_name}_{current_date}.keras\"))\n",
        "# Save model files with date in the filename\n",
        "model.save(os.path.join(model_dir, f\"{model_name}_{current_date}.h5\"))\n",
        "# Print confirmation message\n",
        "print(f\"Model saved to: {model_dir}/{model_name}_{current_date}.keras\")"
      ]
    },
    {
      "cell_type": "code",
      "execution_count": null,
      "id": "a71ade47",
      "metadata": {
        "id": "a71ade47"
      },
      "outputs": [],
      "source": [
        "# Pblot the structure of the contructed model.\n",
        "plot_model(model, to_file = 'model_structure_plot.png', show_shapes = True, show_layer_names = True)"
      ]
    },
    {
      "cell_type": "markdown",
      "id": "591452f1",
      "metadata": {
        "id": "591452f1"
      },
      "source": [
        "## Model Evaluation"
      ]
    },
    {
      "cell_type": "code",
      "execution_count": null,
      "id": "OO8nMoXHZaUS",
      "metadata": {
        "id": "OO8nMoXHZaUS"
      },
      "outputs": [],
      "source": [
        "from sklearn.metrics import accuracy_score\n",
        "from sklearn.metrics import precision_score\n",
        "from sklearn.metrics import recall_score\n",
        "from sklearn.metrics import f1_score"
      ]
    },
    {
      "cell_type": "markdown",
      "id": "hoUo4OvdfHs7",
      "metadata": {
        "id": "hoUo4OvdfHs7"
      },
      "source": []
    },
    {
      "cell_type": "markdown",
      "id": "3b4ee3e6",
      "metadata": {
        "id": "3b4ee3e6"
      },
      "source": [
        "### Accuracy"
      ]
    },
    {
      "cell_type": "code",
      "execution_count": null,
      "id": "MJLF6YxbrgnG",
      "metadata": {
        "colab": {
          "base_uri": "https://localhost:8080/",
          "height": 367
        },
        "id": "MJLF6YxbrgnG",
        "outputId": "bdb130c7-39ec-4ed2-e875-a1a10d0e83ed"
      },
      "outputs": [
        {
          "ename": "NameError",
          "evalue": "name 'model' is not defined",
          "output_type": "error",
          "traceback": [
            "\u001b[0;31m---------------------------------------------------------------------------\u001b[0m",
            "\u001b[0;31mNameError\u001b[0m                                 Traceback (most recent call last)",
            "\u001b[0;32m<ipython-input-4-6e7d08719b8b>\u001b[0m in \u001b[0;36m<cell line: 2>\u001b[0;34m()\u001b[0m\n\u001b[1;32m      1\u001b[0m \u001b[0;31m# accuracy on training data\u001b[0m\u001b[0;34m\u001b[0m\u001b[0;34m\u001b[0m\u001b[0m\n\u001b[0;32m----> 2\u001b[0;31m \u001b[0mX_train_prediction\u001b[0m \u001b[0;34m=\u001b[0m \u001b[0mmodel\u001b[0m\u001b[0;34m.\u001b[0m\u001b[0mpredict\u001b[0m\u001b[0;34m(\u001b[0m\u001b[0mX_train\u001b[0m\u001b[0;34m)\u001b[0m\u001b[0;34m\u001b[0m\u001b[0;34m\u001b[0m\u001b[0m\n\u001b[0m\u001b[1;32m      3\u001b[0m \u001b[0;34m\u001b[0m\u001b[0m\n\u001b[1;32m      4\u001b[0m \u001b[0;31m# Convert predictions to class labels\u001b[0m\u001b[0;34m\u001b[0m\u001b[0;34m\u001b[0m\u001b[0m\n\u001b[1;32m      5\u001b[0m \u001b[0;32mimport\u001b[0m \u001b[0mnumpy\u001b[0m \u001b[0;32mas\u001b[0m \u001b[0mnp\u001b[0m\u001b[0;34m\u001b[0m\u001b[0;34m\u001b[0m\u001b[0m\n",
            "\u001b[0;31mNameError\u001b[0m: name 'model' is not defined"
          ]
        }
      ],
      "source": [
        "# accuracy on training data\n",
        "X_train_prediction = model.predict(X_train)\n",
        "\n",
        "# Convert predictions to class labels\n",
        "import numpy as np\n",
        "X_train_prediction_classes = np.argmax(X_train_prediction, axis=1)\n",
        "\n",
        "training_data_accuracy = accuracy_score(y_train, X_train_prediction_classes) # Use predicted class labels\n",
        "print(training_data_accuracy)\n",
        "print('Accuracy on Training data : ', round(training_data_accuracy*100, 2), '%')"
      ]
    },
    {
      "cell_type": "code",
      "execution_count": null,
      "id": "615234a3",
      "metadata": {
        "id": "615234a3"
      },
      "outputs": [],
      "source": [
        "# accuracy on test data\n",
        "X_test_prediction = model.predict(X_test)\n",
        "\n",
        "# Conve|rt predictions to class labels\n",
        "import numpy as np\n",
        "X_test_prediction_classes = np.argmax(X_test_prediction, axis=1)\n",
        "\n",
        "test_data_accuracy = accuracy_score(y_test, X_test_prediction_classes) # Use predicted class labels\n",
        "print(test_data_accuracy)\n",
        "print('Accuracy on Test data : ', round(test_data_accuracy*100, 2), '%')"
      ]
    },
    {
      "cell_type": "markdown",
      "id": "e34d5cb2",
      "metadata": {
        "id": "e34d5cb2"
      },
      "source": [
        "### precision"
      ]
    },
    {
      "cell_type": "code",
      "execution_count": null,
      "id": "0cf89425",
      "metadata": {
        "id": "0cf89425",
        "colab": {
          "base_uri": "https://localhost:8080/",
          "height": 211
        },
        "outputId": "92b8a3fc-6171-4c27-95dd-e06121fef9e7"
      },
      "outputs": [
        {
          "output_type": "error",
          "ename": "NameError",
          "evalue": "name 'np' is not defined",
          "traceback": [
            "\u001b[0;31m---------------------------------------------------------------------------\u001b[0m",
            "\u001b[0;31mNameError\u001b[0m                                 Traceback (most recent call last)",
            "\u001b[0;32m<ipython-input-1-aa998e54a5cf>\u001b[0m in \u001b[0;36m<cell line: 3>\u001b[0;34m()\u001b[0m\n\u001b[1;32m      1\u001b[0m \u001b[0;31m# precision for training data predictions\u001b[0m\u001b[0;34m\u001b[0m\u001b[0;34m\u001b[0m\u001b[0m\n\u001b[1;32m      2\u001b[0m \u001b[0;31m# Convert predictions to class labels for training data\u001b[0m\u001b[0;34m\u001b[0m\u001b[0;34m\u001b[0m\u001b[0m\n\u001b[0;32m----> 3\u001b[0;31m \u001b[0mX_train_prediction_classes\u001b[0m \u001b[0;34m=\u001b[0m \u001b[0mnp\u001b[0m\u001b[0;34m.\u001b[0m\u001b[0margmax\u001b[0m\u001b[0;34m(\u001b[0m\u001b[0mX_train_prediction\u001b[0m\u001b[0;34m,\u001b[0m \u001b[0maxis\u001b[0m\u001b[0;34m=\u001b[0m\u001b[0;36m1\u001b[0m\u001b[0;34m)\u001b[0m\u001b[0;34m\u001b[0m\u001b[0;34m\u001b[0m\u001b[0m\n\u001b[0m\u001b[1;32m      4\u001b[0m \u001b[0;34m\u001b[0m\u001b[0m\n\u001b[1;32m      5\u001b[0m \u001b[0;31m# Calculate precision using predicted class labels\u001b[0m\u001b[0;34m\u001b[0m\u001b[0;34m\u001b[0m\u001b[0m\n",
            "\u001b[0;31mNameError\u001b[0m: name 'np' is not defined"
          ]
        }
      ],
      "source": [
        "# precision for training data predictions\n",
        "# Convert predictions to class labels for training data\n",
        "X_train_prediction_classes = np.argmax(X_train_prediction, axis=1)\n",
        "\n",
        "# Calculate precision using predicted class labels\n",
        "# Set average='macro' to calculate precision for multiclass\n",
        "precision_train = precision_score(y_train, X_train_prediction_classes, average='macro')\n",
        "print('Training data Precision =', precision_train)\n",
        "print('Training data Precision : ', round(precision_train*100, 2), '%')"
      ]
    },
    {
      "cell_type": "code",
      "execution_count": null,
      "id": "3b72b559",
      "metadata": {
        "id": "3b72b559",
        "colab": {
          "base_uri": "https://localhost:8080/",
          "height": 211
        },
        "outputId": "08926548-c574-4587-bdfe-31ac600c6b94"
      },
      "outputs": [
        {
          "output_type": "error",
          "ename": "NameError",
          "evalue": "name 'np' is not defined",
          "traceback": [
            "\u001b[0;31m---------------------------------------------------------------------------\u001b[0m",
            "\u001b[0;31mNameError\u001b[0m                                 Traceback (most recent call last)",
            "\u001b[0;32m<ipython-input-2-bb8c5865753b>\u001b[0m in \u001b[0;36m<cell line: 4>\u001b[0;34m()\u001b[0m\n\u001b[1;32m      2\u001b[0m \u001b[0;31m# precision for test data predictions\u001b[0m\u001b[0;34m\u001b[0m\u001b[0;34m\u001b[0m\u001b[0m\n\u001b[1;32m      3\u001b[0m \u001b[0;31m# Convert predictions to class labels for test data\u001b[0m\u001b[0;34m\u001b[0m\u001b[0;34m\u001b[0m\u001b[0m\n\u001b[0;32m----> 4\u001b[0;31m \u001b[0mX_test_prediction_classes\u001b[0m \u001b[0;34m=\u001b[0m \u001b[0mnp\u001b[0m\u001b[0;34m.\u001b[0m\u001b[0margmax\u001b[0m\u001b[0;34m(\u001b[0m\u001b[0mX_test_prediction\u001b[0m\u001b[0;34m,\u001b[0m \u001b[0maxis\u001b[0m\u001b[0;34m=\u001b[0m\u001b[0;36m1\u001b[0m\u001b[0;34m)\u001b[0m\u001b[0;34m\u001b[0m\u001b[0;34m\u001b[0m\u001b[0m\n\u001b[0m\u001b[1;32m      5\u001b[0m \u001b[0;34m\u001b[0m\u001b[0m\n\u001b[1;32m      6\u001b[0m \u001b[0mprecision_test\u001b[0m \u001b[0;34m=\u001b[0m \u001b[0mprecision_score\u001b[0m\u001b[0;34m(\u001b[0m\u001b[0my_test\u001b[0m\u001b[0;34m,\u001b[0m \u001b[0mX_test_prediction_classes\u001b[0m\u001b[0;34m,\u001b[0m \u001b[0maverage\u001b[0m\u001b[0;34m=\u001b[0m\u001b[0;34m'macro'\u001b[0m\u001b[0;34m)\u001b[0m\u001b[0;34m\u001b[0m\u001b[0;34m\u001b[0m\u001b[0m\n",
            "\u001b[0;31mNameError\u001b[0m: name 'np' is not defined"
          ]
        }
      ],
      "source": [
        "# precision for test data predictions\n",
        "# precision for test data predictions\n",
        "# Convert predictions to class labels for test data\n",
        "X_test_prediction_classes = np.argmax(X_test_prediction, axis=1)\n",
        "\n",
        "precision_test = precision_score(y_test, X_test_prediction_classes, average='macro')\n",
        "print('Test data Precision =', precision_test)\n",
        "print('Test data Precision : ', round(precision_test*100, 2), '%')"
      ]
    },
    {
      "cell_type": "markdown",
      "id": "66430d5b",
      "metadata": {
        "id": "66430d5b"
      },
      "source": [
        "### Recall"
      ]
    },
    {
      "cell_type": "code",
      "execution_count": null,
      "id": "25056d02",
      "metadata": {
        "id": "25056d02"
      },
      "outputs": [],
      "source": [
        "# recall for training data predictions\n",
        "# Assuming X_train_prediction contains probabilities, convert them to class labels\n",
        "from sklearn.preprocessing import LabelEncoder\n",
        "\n",
        "# Fit label encoder on training labels (assuming y_train contains class labels)\n",
        "label_encoder = LabelEncoder()\n",
        "label_encoder.fit(y_train)\n",
        "\n",
        "# Transform predictions to class labels\n",
        "X_train_prediction_classes = label_encoder.transform(np.argmax(X_train_prediction, axis=1))\n",
        "\n",
        "# Calculate recall score using class labels\n",
        "recall_train = recall_score(y_train, X_train_prediction_classes, average='macro')\n",
        "print('Training data Recall =', recall_train)\n",
        "print('Training data Recall : ', round(recall_train*100, 2), '%')"
      ]
    },
    {
      "cell_type": "code",
      "execution_count": null,
      "id": "54e9228b",
      "metadata": {
        "id": "54e9228b"
      },
      "outputs": [],
      "source": [
        "# recall for test data predictions\n",
        "# recall for test data predictions\n",
        "# Assuming X_test_prediction contains probabilities, convert them to class labels\n",
        "X_test_prediction_classes = np.argmax(X_test_prediction, axis=1)\n",
        "\n",
        "# Calculate recall score using class labels\n",
        "recall_test = recall_score(y_test, X_test_prediction_classes, average='macro')\n",
        "print('Test data Recall =', recall_test)\n",
        "print('Test data Recall : ', round(recall_test*100, 2), '%')"
      ]
    },
    {
      "cell_type": "markdown",
      "id": "3411f142",
      "metadata": {
        "id": "3411f142"
      },
      "source": [
        "### F1 score"
      ]
    },
    {
      "cell_type": "code",
      "execution_count": null,
      "id": "871d2b81",
      "metadata": {
        "id": "871d2b81"
      },
      "outputs": [],
      "source": [
        "# F1 score for training data predictions\n",
        "f1_score_train = f1_score(y_train, X_train_prediction_classes,average='macro')\n",
        "print('Training data F1 Score =', f1_score_train)\n",
        "print('Training data F1 Score : ', round(f1_score_train*100, 2), '%')"
      ]
    },
    {
      "cell_type": "markdown",
      "id": "fKZPFtxgCgxF",
      "metadata": {
        "id": "fKZPFtxgCgxF"
      },
      "source": []
    },
    {
      "cell_type": "code",
      "execution_count": null,
      "id": "4b50b4e2",
      "metadata": {
        "id": "4b50b4e2"
      },
      "outputs": [],
      "source": [
        "# F1 Score for test data predictions\n",
        "f1_score_test = recall_score(y_test, X_test_prediction_classes,average='macro')\n",
        "print('Test data F1 Score =', f1_score_test)\n",
        "print('Test data F1 Score : ', round(f1_score_test*100, 2), '%')"
      ]
    }
  ],
  "metadata": {
    "colab": {
      "provenance": []
    },
    "kernelspec": {
      "display_name": "Python 3",
      "name": "python3"
    },
    "language_info": {
      "codemirror_mode": {
        "name": "ipython",
        "version": 3
      },
      "file_extension": ".py",
      "mimetype": "text/x-python",
      "name": "python",
      "nbconvert_exporter": "python",
      "pygments_lexer": "ipython3",
      "version": "3.11.3"
    }
  },
  "nbformat": 4,
  "nbformat_minor": 5
}